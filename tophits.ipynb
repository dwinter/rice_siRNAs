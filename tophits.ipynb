{
 "metadata": {
  "name": "tophits"
 },
 "nbformat": 3,
 "nbformat_minor": 0,
 "worksheets": [
  {
   "cells": [
    {
     "cell_type": "markdown",
     "metadata": {},
     "source": [
      "##Searching for sequence homologies between naturally occuring siRNAs and human mRNAs"
     ]
    },
    {
     "cell_type": "code",
     "collapsed": false,
     "input": [
      "import random\n",
      "\n",
      "from collections import Counter\n",
      "\n",
      "from Bio import SeqIO\n",
      "from Bio.Blast import NCBIWWW\n",
      "from Bio.Blast import NCBIXML"
     ],
     "language": "python",
     "metadata": {},
     "outputs": [],
     "prompt_number": 13
    },
    {
     "cell_type": "markdown",
     "metadata": {},
     "source": [
      "###Take a sample of a very large dataset (this run before analyses/upload)"
     ]
    },
    {
     "cell_type": "code",
     "collapsed": false,
     "input": [
      "seqs = SeqIO.parse(\"rice_siRNA.fasta\", \"fasta\")\n",
      "rec = seqs.next()\n",
      "sample = []\n",
      "while len(sample) < 1000:\n",
      "    if random.random() < 0.001:\n",
      "        sample.append(rec)\n",
      "    rec = seqs.next()\n",
      "print SeqIO.write(sample, \"rice_siRNA_sample_n1000.fasta\", \"fasta\")"
     ],
     "language": "python",
     "metadata": {},
     "outputs": [
      {
       "output_type": "pyout",
       "prompt_number": 5,
       "text": [
        "100"
       ]
      }
     ],
     "prompt_number": 5
    },
    {
     "cell_type": "code",
     "collapsed": false,
     "input": [
      "sample = list(SeqIO.parse(\"rice_siRNA_sample_n1000.fasta\", \"fasta\"))"
     ],
     "language": "python",
     "metadata": {},
     "outputs": [],
     "prompt_number": 7
    },
    {
     "cell_type": "markdown",
     "metadata": {},
     "source": [
      "###Now blast it against refseq_rna, exluding all non-human sequences. Record biggest perfect match\n",
      "\n",
      "We'll do the BLASTs in batches of 50"
     ]
    },
    {
     "cell_type": "code",
     "collapsed": false,
     "input": [
      "def largest_perfect_hit(blast_rec):\n",
      "    \"\"\"Find the largest prefect match in a given blast record\n",
      "    \"\"\"\n",
      "    hits = blast_rec.alignments\n",
      "    perfects = [h.hsps[0].align_length for h in hits if (h.hsps[0].align_length == h.hsps[0].identities) ]\n",
      "    if perfects:\n",
      "        return(max(perfects), perfects)\n",
      "    else:\n",
      "        return(0,0)\n",
      "\n",
      "    \n",
      "def get_perfect_hits(batch):\n",
      "    \"\"\"given a batch of sequences, blast them against human refseq_rna and retrieve the largest blast for each\n",
      "    \"\"\"\n",
      "    seq = \"\\n\".join([s.format(\"fasta\") for s in batch])\n",
      "    brec = NCBIWWW.qblast(\"blastn\", database=\"refseq_rna\", entrez_query=\"Homo[Orgn]\", sequence=seq)\n",
      "    return( [largest_perfect_hit(r) for r in NCBIXML.parse(brec)] )\n",
      "\n",
      "\n",
      "def chunks(l, n):\n",
      "    \"\"\" Yield successive n-sized chunks from l.\n",
      "    \"\"\"\n",
      "    for i in range(0, len(l), n):\n",
      "        yield l[i:i+n]\n",
      "    "
     ],
     "language": "python",
     "metadata": {},
     "outputs": [],
     "prompt_number": 89
    },
    {
     "cell_type": "code",
     "collapsed": false,
     "input": [
      "results = []\n",
      "counter = 0\n",
      "\n",
      "for chunk in chunks(sample, 50):\n",
      "    results += get_perfect_hits(chunk)\n",
      "    counter += 1\n",
      "    print \"done with chunk {0} of 20\".format(counter)\n",
      "    "
     ],
     "language": "python",
     "metadata": {},
     "outputs": [
      {
       "output_type": "stream",
       "stream": "stdout",
       "text": [
        "done with chunk 1 of 20\n",
        "done with chunk 2 of 20"
       ]
      },
      {
       "output_type": "stream",
       "stream": "stdout",
       "text": [
        "\n",
        "done with chunk 3 of 20"
       ]
      },
      {
       "output_type": "stream",
       "stream": "stdout",
       "text": [
        "\n",
        "done with chunk 4 of 20"
       ]
      },
      {
       "output_type": "stream",
       "stream": "stdout",
       "text": [
        "\n",
        "done with chunk 5 of 20"
       ]
      },
      {
       "output_type": "stream",
       "stream": "stdout",
       "text": [
        "\n",
        "done with chunk 6 of 20"
       ]
      },
      {
       "output_type": "stream",
       "stream": "stdout",
       "text": [
        "\n",
        "done with chunk 7 of 20"
       ]
      },
      {
       "output_type": "stream",
       "stream": "stdout",
       "text": [
        "\n",
        "done with chunk 8 of 20"
       ]
      },
      {
       "output_type": "stream",
       "stream": "stdout",
       "text": [
        "\n",
        "done with chunk 9 of 20"
       ]
      },
      {
       "output_type": "stream",
       "stream": "stdout",
       "text": [
        "\n",
        "done with chunk 10 of 20"
       ]
      },
      {
       "output_type": "stream",
       "stream": "stdout",
       "text": [
        "\n",
        "done with chunk 11 of 20"
       ]
      },
      {
       "output_type": "stream",
       "stream": "stdout",
       "text": [
        "\n",
        "done with chunk 12 of 20"
       ]
      },
      {
       "output_type": "stream",
       "stream": "stdout",
       "text": [
        "\n",
        "done with chunk 13 of 20"
       ]
      },
      {
       "output_type": "stream",
       "stream": "stdout",
       "text": [
        "\n",
        "done with chunk 14 of 20"
       ]
      },
      {
       "output_type": "stream",
       "stream": "stdout",
       "text": [
        "\n",
        "done with chunk 15 of 20"
       ]
      },
      {
       "output_type": "stream",
       "stream": "stdout",
       "text": [
        "\n",
        "done with chunk 16 of 20"
       ]
      },
      {
       "output_type": "stream",
       "stream": "stdout",
       "text": [
        "\n",
        "done with chunk 17 of 20"
       ]
      },
      {
       "output_type": "stream",
       "stream": "stdout",
       "text": [
        "\n",
        "done with chunk 18 of 20"
       ]
      },
      {
       "output_type": "stream",
       "stream": "stdout",
       "text": [
        "\n",
        "done with chunk 19 of 20"
       ]
      },
      {
       "output_type": "stream",
       "stream": "stdout",
       "text": [
        "\n",
        "done with chunk 20 of 20"
       ]
      },
      {
       "output_type": "stream",
       "stream": "stdout",
       "text": [
        "\n"
       ]
      }
     ],
     "prompt_number": 99
    },
    {
     "cell_type": "markdown",
     "metadata": {},
     "source": [
      "###Histogram of largest perfect hit for each siRNA sequence examined"
     ]
    },
    {
     "cell_type": "code",
     "collapsed": false,
     "input": [
      "graph = pyplot.figure()\n",
      "ax1 = graph.add_subplot(121)\n",
      "hist([l for l,p in results])\n",
      "ax2 = graph.add_subplot(122)\n",
      "hist([l for l,p in results], cumulative=-1, histtype=\"step\")"
     ],
     "language": "python",
     "metadata": {},
     "outputs": [
      {
       "output_type": "pyout",
       "prompt_number": 100,
       "text": [
        "(array([1000,  896,  896,  896,  896,  896,  896,  248,   16,    2]),\n",
        " array([  0. ,   2.2,   4.4,   6.6,   8.8,  11. ,  13.2,  15.4,  17.6,\n",
        "        19.8,  22. ]),\n",
        " <a list of 1 Patch objects>)"
       ]
      },
      {
       "output_type": "display_data",
       "png": "[encoded data removed]"
      }
     ],
     "prompt_number": 100
    },
    {
     "cell_type": "code",
     "collapsed": false,
     "input": [
      "Counter([l for l,p in results])\n",
      " \n",
      "results"
     ],
     "language": "python",
     "metadata": {},
     "outputs": [
      {
       "output_type": "pyout",
       "prompt_number": 196,
       "text": [
        "[]"
       ]
      }
     ],
     "prompt_number": 196
    },
    {
     "cell_type": "code",
     "collapsed": false,
     "input": [
      "out = open(\"perfects.csv\", \"w\")\n",
      "out.write(\"n.perfect\\n\")\n",
      "lcount = 0\n",
      "for l,_ in results:\n",
      "    out.write(str(l) + \"\\n\")\n",
      "    lcount += 1\n",
      "out.close()\n",
      "print \"wrote {0} lines of data to perfects.csv\".format(lcount)\n",
      "    \n",
      "    "
     ],
     "language": "python",
     "metadata": {},
     "outputs": [
      {
       "output_type": "stream",
       "stream": "stdout",
       "text": [
        "wrote 1000 lines of data to perfects.csv\n"
       ]
      }
     ],
     "prompt_number": 134
    },
    {
     "cell_type": "code",
     "collapsed": false,
     "input": [],
     "language": "python",
     "metadata": {},
     "outputs": [],
     "prompt_number": 134
    },
    {
     "cell_type": "markdown",
     "metadata": {},
     "source": [
      "###How many hits per sequence"
     ]
    },
    {
     "cell_type": "code",
     "collapsed": false,
     "input": [],
     "language": "python",
     "metadata": {},
     "outputs": [],
     "prompt_number": 224
    },
    {
     "cell_type": "markdown",
     "metadata": {},
     "source": [
      "##Compare naturally occuring siRNAs with _potential_ matches in sequence from report"
     ]
    },
    {
     "cell_type": "code",
     "collapsed": false,
     "input": [
      "hman = 'ggcgggttgagtgagatctgggccactgaccgactcactcgctcgctgcgcggggatggcgacgttcgcggtgtccggcgcgaccctcggtgtggcgcggcccgccggcgccggcggcggactgctgccgcgatccggctcggagcggaggggcggggtggacctgccgtcgctgctcctcaggaagaaggactcctctcgcgccgtcctgagccgcgcggcctctccagggaaggtcctggtgcctgacggtgagagcgacgacttggcaagtccggcgcaacctgaagaattacagatacctgaagacatcgaggagcaaacggctgaagtaaacatgacaggggggactgcagaaaaacttgaatcttcagaaccgactcaaggcattgtggaaacaatcactgatggtgtaaccaaaggagttaaggaactagtcgtgggggagaaaccgcgagttgtcccaaaaccaggagatgggcagaaaatatacgagattgacccaacgctgaaagattttcggagccatcttgactaccg'\n"
     ],
     "language": "python",
     "metadata": {},
     "outputs": [],
     "prompt_number": 59
    },
    {
     "cell_type": "code",
     "collapsed": false,
     "input": [
      "def get_21mer(rec):\n",
      "    start = random_integers(0, len(rec)-21, 1)\n",
      "    return(\">hman\\n\" + rec[start:start+21])\n",
      "\n",
      "from itertools import islice\n",
      "\n",
      "def window(seq, n=2):\n",
      "    \"Returns a sliding window (of width n) over data from the iterable\"\n",
      "    \"   s -> (s0,s1,...s[n-1]), (s1,s2,...,sn), ...                   \"\n",
      "    it = iter(seq)\n",
      "    result = tuple(islice(it, n))\n",
      "    if len(result) == n:\n",
      "        yield \">hman\\n\" + \"\".join(result)\n",
      "    for elem in it:\n",
      "        result = result[1:] + (elem,)\n",
      "        yield \">hman\\n\" + \"\".join(result)\n",
      "    "
     ],
     "language": "python",
     "metadata": {},
     "outputs": [],
     "prompt_number": 173
    },
    {
     "cell_type": "code",
     "collapsed": false,
     "input": [
      "hman_frags = list(window(hman, 22))\n",
      "\n",
      "results_hman = []\n",
      "ccount = 0\n",
      "for chunk in chunks(hman_frags, 50):\n",
      "    results_hman += get_perfect_hits(chunk)\n",
      "    ccount += 1\n",
      "    print \"done with {0} of 11 chunks\".format(ccount)"
     ],
     "language": "python",
     "metadata": {},
     "outputs": [
      {
       "output_type": "stream",
       "stream": "stdout",
       "text": [
        "done with 1 of 11 chunks\n",
        "done with 2 of 11 chunks"
       ]
      },
      {
       "output_type": "stream",
       "stream": "stdout",
       "text": [
        "\n",
        "done with 3 of 11 chunks"
       ]
      },
      {
       "output_type": "stream",
       "stream": "stdout",
       "text": [
        "\n",
        "done with 4 of 11 chunks"
       ]
      },
      {
       "output_type": "stream",
       "stream": "stdout",
       "text": [
        "\n",
        "done with 5 of 11 chunks"
       ]
      },
      {
       "output_type": "stream",
       "stream": "stdout",
       "text": [
        "\n",
        "done with 6 of 11 chunks"
       ]
      },
      {
       "output_type": "stream",
       "stream": "stdout",
       "text": [
        "\n",
        "done with 7 of 11 chunks"
       ]
      },
      {
       "output_type": "stream",
       "stream": "stdout",
       "text": [
        "\n",
        "done with 8 of 11 chunks"
       ]
      },
      {
       "output_type": "stream",
       "stream": "stdout",
       "text": [
        "\n",
        "done with 9 of 11 chunks"
       ]
      },
      {
       "output_type": "stream",
       "stream": "stdout",
       "text": [
        "\n",
        "done with 10 of 11 chunks"
       ]
      },
      {
       "output_type": "stream",
       "stream": "stdout",
       "text": [
        "\n",
        "done with 11 of 11 chunks"
       ]
      },
      {
       "output_type": "stream",
       "stream": "stdout",
       "text": [
        "\n"
       ]
      }
     ],
     "prompt_number": 181
    },
    {
     "cell_type": "code",
     "collapsed": false,
     "input": [
      "#In case results aren't in memory:\n",
      "#results= (open(\"perfects.csv\")).readlines()\n",
      "#results = [int(i) for i in results[1:]]\n",
      "\n",
      "graph = pyplot.figure()\n",
      "ax1 = graph.add_subplot(121)\n",
      "hist(results, normed=1, alpha=0.6, bins=21)\n",
      "hist([l for l,p in results_hman], normed=1, alpha=0.6, bins=21)\n",
      "ax2 = graph.add_subplot(122)\n",
      "hist(results, cumulative=-1, histtype=\"step\", normed=1)\n",
      "hist([l for l,p in results_hman], cumulative=-1, histtype=\"step\", normed=1)\n",
      "\n",
      "\n"
     ],
     "language": "python",
     "metadata": {},
     "outputs": [
      {
       "output_type": "pyout",
       "prompt_number": 225,
       "text": [
        "(array([ 1.        ,  0.95183044,  0.95183044,  0.95183044,  0.95183044,\n",
        "        0.95183044,  0.95183044,  0.95183044,  0.59537572,  0.06743738]),\n",
        " array([  0. ,   1.8,   3.6,   5.4,   7.2,   9. ,  10.8,  12.6,  14.4,\n",
        "        16.2,  18. ]),\n",
        " <a list of 1 Patch objects>)"
       ]
      },
      {
       "output_type": "display_data",
       "png": "[encoded data removed]"
      }
     ],
     "prompt_number": 225
    },
    {
     "cell_type": "code",
     "collapsed": false,
     "input": [
      "out = open(\"hman.csv\", \"w\")\n",
      "out.write(\"n.perfect\\n\")\n",
      "lcount = 0\n",
      "for l,_ in results_hman:\n",
      "    out.write(str(l) + \"\\n\")\n",
      "    lcount += 1\n",
      "out.close()\n",
      "print \"wrote {0} lines of data to perfects.csv\".format(lcount)\n",
      "    \n",
      "    "
     ],
     "language": "python",
     "metadata": {},
     "outputs": [
      {
       "output_type": "stream",
       "stream": "stdout",
       "text": [
        "wrote 519 lines of data to perfects.csv\n"
       ]
      }
     ],
     "prompt_number": 226
    },
    {
     "cell_type": "code",
     "collapsed": false,
     "input": [],
     "language": "python",
     "metadata": {},
     "outputs": [],
     "prompt_number": 202
    },
    {
     "cell_type": "code",
     "collapsed": false,
     "input": [],
     "language": "python",
     "metadata": {},
     "outputs": []
    },
    {
     "cell_type": "code",
     "collapsed": false,
     "input": [],
     "language": "python",
     "metadata": {},
     "outputs": []
    }
   ],
   "metadata": {}
  }
 ]
}