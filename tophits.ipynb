{
 "metadata": {
  "name": "tophits"
 },
 "nbformat": 3,
 "nbformat_minor": 0,
 "worksheets": [
  {
   "cells": [
    {
     "cell_type": "markdown",
     "metadata": {},
     "source": [
      "##Searching for sequence homologies between naturally occuring siRNAs and human mRNAs"
     ]
    },
    {
     "cell_type": "code",
     "collapsed": false,
     "input": [
      "import random\n",
      "\n",
      "from collections import Counter\n",
      "\n",
      "from Bio import SeqIO\n",
      "from Bio.Blast import NCBIWWW\n",
      "from Bio.Blast import NCBIXML"
     ],
     "language": "python",
     "metadata": {},
     "outputs": [],
     "prompt_number": 13
    },
    {
     "cell_type": "markdown",
     "metadata": {},
     "source": [
      "###Take a sample of a very large dataset (this run before analyses/upload)"
     ]
    },
    {
     "cell_type": "code",
     "collapsed": false,
     "input": [
      "seqs = SeqIO.parse(\"rice_siRNA.fasta\", \"fasta\")\n",
      "rec = seqs.next()\n",
      "sample = []\n",
      "while len(sample) < 1000:\n",
      "    if random.random() < 0.001:\n",
      "        sample.append(rec)\n",
      "    rec = seqs.next()\n",
      "print SeqIO.write(sample, \"rice_siRNA_sample_n1000.fasta\", \"fasta\")\n",
      "    \n",
      "    \n",
      "    "
     ],
     "language": "python",
     "metadata": {},
     "outputs": [
      {
       "output_type": "pyout",
       "prompt_number": 5,
       "text": [
        "100"
       ]
      }
     ],
     "prompt_number": 5
    },
    {
     "cell_type": "code",
     "collapsed": false,
     "input": [
      "sample = list(SeqIO.parse(\"rice_siRNA_sample_n1000.fasta\", \"fasta\"))"
     ],
     "language": "python",
     "metadata": {},
     "outputs": [],
     "prompt_number": 7
    },
    {
     "cell_type": "markdown",
     "metadata": {},
     "source": [
      "###Now blast it against refseq_rna, exluding all non-human sequences. Record biggest perfect match"
     ]
    },
    {
     "cell_type": "code",
     "collapsed": false,
     "input": [
      "def get_largest_perfect_hit(seq_rec):\n",
      "    \"\"\" \"\"\"\n",
      "    brec = NCBIWWW.qblast(\"blastn\", database=\"refseq_rna\", entrez_query=\"Homo[Orgn]\", sequence=seq_rec.format(\"fasta\"))\n",
      "    parsed_rec = NCBIXML.parse(brec).next() #these searches only have one rec\n",
      "    hits = parsed_rec.alignments\n",
      "    perfects = [h.hsps[0].align_length for h in hits if (h.hsps[0].align_length == h.hsps[0].identities) ]\n",
      "    if perfects:\n",
      "        return(max(perfects), len(perfects))\n",
      "    else:\n",
      "        return(0,0)\n",
      "    "
     ],
     "language": "python",
     "metadata": {},
     "outputs": [],
     "prompt_number": 4
    },
    {
     "cell_type": "code",
     "collapsed": false,
     "input": [
      "test_run = [get_largest_perfect_hit(r) for r in sample[1:100] ]"
     ],
     "language": "python",
     "metadata": {},
     "outputs": [],
     "prompt_number": 9
    },
    {
     "cell_type": "markdown",
     "metadata": {},
     "source": [
      "###Histogram of largest perfect hit for each siRNA sequence examined"
     ]
    },
    {
     "cell_type": "code",
     "collapsed": false,
     "input": [
      "graph = pyplot.figure()\n",
      "ax1 = graph.add_subplot(121)\n",
      "hist([l for l,f in test_run])\n",
      "ax2 = graph.add_subplot(122)\n",
      "hist([l for l,g in test_run], cumulative=-1, histtype=\"step\")"
     ],
     "language": "python",
     "metadata": {},
     "outputs": [
      {
       "output_type": "pyout",
       "prompt_number": 48,
       "text": [
        "(array([99, 90, 90, 90, 90, 90, 90, 90, 62, 11]),\n",
        " array([  0. ,   1.8,   3.6,   5.4,   7.2,   9. ,  10.8,  12.6,  14.4,\n",
        "        16.2,  18. ]),\n",
        " <a list of 1 Patch objects>)"
       ]
      },
      {
       "output_type": "display_data",
       "png": "[encoded data removed]"
      }
     ],
     "prompt_number": 48
    },
    {
     "cell_type": "markdown",
     "metadata": {},
     "source": [
      "###How many hits per sequence"
     ]
    },
    {
     "cell_type": "code",
     "collapsed": false,
     "input": [
      "hist([f for l,f in test_run])"
     ],
     "language": "python",
     "metadata": {},
     "outputs": [
      {
       "output_type": "pyout",
       "prompt_number": 52,
       "text": [
        "(array([34, 27, 10, 11,  2,  4,  3,  4,  0,  4]),\n",
        " array([  0. ,   4.1,   8.2,  12.3,  16.4,  20.5,  24.6,  28.7,  32.8,\n",
        "        36.9,  41. ]),\n",
        " <a list of 10 Patch objects>)"
       ]
      },
      {
       "output_type": "display_data",
       "png": "[encoded data removed]"
      }
     ],
     "prompt_number": 52
    }
   ],
   "metadata": {}
  }
 ]
}