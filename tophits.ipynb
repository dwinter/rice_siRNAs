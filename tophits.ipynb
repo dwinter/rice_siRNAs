{
 "metadata": {
  "name": "tophits"
 },
 "nbformat": 3,
 "nbformat_minor": 0,
 "worksheets": [
  {
   "cells": [
    {
     "cell_type": "markdown",
     "metadata": {},
     "source": [
      "##Searching for sequence homologies between naturally occuring siRNAs and human mRNAs"
     ]
    },
    {
     "cell_type": "code",
     "collapsed": false,
     "input": [
      "import random\n",
      "from Bio import SeqIO\n",
      "from Bio.Blast import NCBIWWW\n",
      "from Bio.Blast import NCBIXML"
     ],
     "language": "python",
     "metadata": {},
     "outputs": [],
     "prompt_number": 2
    },
    {
     "cell_type": "markdown",
     "metadata": {},
     "source": [
      "###Take a sample of a very large dataset (this run before analyses/upload)"
     ]
    },
    {
     "cell_type": "code",
     "collapsed": false,
     "input": [
      "seqs = SeqIO.parse(\"rice_siRNA.fasta\", \"fasta\")\n",
      "rec = seqs.next()\n",
      "sample = []\n",
      "while len(sample) < 1000:\n",
      "    if random.random() < 0.001:\n",
      "        sample.append(rec)\n",
      "    rec = seqs.next()\n",
      "print SeqIO.write(sample, \"rice_siRNA_sample_n1000.fasta\", \"fasta\")\n",
      "    \n",
      "    \n",
      "    "
     ],
     "language": "python",
     "metadata": {},
     "outputs": [
      {
       "output_type": "pyout",
       "prompt_number": 5,
       "text": [
        "100"
       ]
      }
     ],
     "prompt_number": 5
    },
    {
     "cell_type": "code",
     "collapsed": false,
     "input": [
      "sample = list(SeqIO.parse(\"rice_siRNA_sample_n1000.fasta\", \"fasta\"))"
     ],
     "language": "python",
     "metadata": {},
     "outputs": [],
     "prompt_number": 7
    },
    {
     "cell_type": "markdown",
     "metadata": {},
     "source": [
      "###Now blast it against refseq_rna, exluding all non-human sequences. Record biggest perfect match"
     ]
    },
    {
     "cell_type": "code",
     "collapsed": false,
     "input": [
      "def get_largest_perfect_hit(seq_rec):\n",
      "    \"\"\" \"\"\"\n",
      "    brec = NCBIWWW.qblast(\"blastn\", database=\"refseq_rna\", entrez_query=\"Homo[Orgn]\", sequence=seq_rec.format(\"fasta\"))\n",
      "    parsed_rec = NCBIXML.parse(brec).next() #these searches only have one rec\n",
      "    hits = parsed_rec.alignments\n",
      "    perfects = [h.hsps[0].align_length for h in hits if (h.hsps[0].align_length == h.hsps[0].identities) ]\n",
      "    if perfects:\n",
      "        return(max(perfects), len(perfects))\n",
      "    else:\n",
      "        return(0,0)\n",
      "    "
     ],
     "language": "python",
     "metadata": {},
     "outputs": [],
     "prompt_number": 4
    },
    {
     "cell_type": "code",
     "collapsed": false,
     "input": [
      "test_run = [get_largest_perfect_hit(r) for r in sample[1:100] ]"
     ],
     "language": "python",
     "metadata": {},
     "outputs": [],
     "prompt_number": "*"
    },
    {
     "cell_type": "markdown",
     "metadata": {},
     "source": [
      "###Histogram of largest perfect hit for each siRNA sequence examined"
     ]
    },
    {
     "cell_type": "code",
     "collapsed": false,
     "input": [
      "hist([l for l,f in test_run])"
     ],
     "language": "python",
     "metadata": {},
     "outputs": [],
     "prompt_number": "*"
    }
   ],
   "metadata": {}
  }
 ]
}